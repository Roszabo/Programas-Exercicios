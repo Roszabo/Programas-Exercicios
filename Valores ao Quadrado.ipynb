{
 "cells": [
  {
   "cell_type": "code",
   "execution_count": 1,
   "metadata": {},
   "outputs": [
    {
     "name": "stdout",
     "output_type": "stream",
     "text": [
      "Indica o valor[1]: 4\n",
      "Indica o valor[2]: 3\n",
      "Indica o valor[3]: 2\n",
      "Indica o valor[4]: 1\n",
      "Indica o valor[5]: 6\n",
      "\n",
      "lista 1 = [4, 3, 2, 1, 6]\n",
      "lista 2 = 16 9 4 1 36 "
     ]
    }
   ],
   "source": [
    "# Em linguagem Python, elabora um programa que lê um conjunto de 5 números inteiros, armazenando-o numa\n",
    "# lista (L1), calcula o quadrado dos elementos dessa lista, armazena o resultado em outra lista (L2),\n",
    "# Imprimir todas as listas\n",
    "\n",
    "# Entrada de dados\n",
    "\n",
    "l1 = [] # Cria uma lista vazia\n",
    "\n",
    "for i in range(5): # Criando um laço de repetição para ler 5 valores e armazenar em uma lista\n",
    "  valor = int(input(f\"Indica o valor[{i + 1}]: \")) # Input de um valor inteiro e armazenar em uma variável\n",
    "  l1.append(valor) # Adiciona o valor na lista l1 usando o .append() que coloca um item no final da lista\n",
    "\n",
    "# Calcula o quadrado dos elementos da lista l1, armazenando os resultados numa outra lista chamada (l2)\n",
    "l2 = list(range(len(l1))) # Cria uma lista l2 com range() do tamanho de l1 para armazenar o resultado do quadrado dos elementos da lista l1 e fazer a comparação em um loop for.\n",
    "\n",
    "for i in range(len(l1)): # Cria um laço para calcular o quadrado dos elementos da lista l1\n",
    "  l2[i] = l1[i] ** 2 # Armazenando o resultado do quadrado dos elementos da lista l1 na lista l2\n",
    "\n",
    "# Imprimir todas as listas.\n",
    "print(f\"\\nlista 1 = {l1}\") # Imprimir a lista l1 com os valores lidos\n",
    "\n",
    "print(\"lista 2 = \", end='') # Imprimir a lista l2 com os valores calculados do quadrado dos elementos da lista l1\n",
    "for i in range(len(l2)): # Criar um laço para imprimir os valores da lista l2\n",
    "  print(l2[i], end=' ') # Imprimir os valores da lista l2 separados por espaço\n"
   ]
  },
  {
   "cell_type": "code",
   "execution_count": null,
   "metadata": {},
   "outputs": [],
   "source": []
  }
 ],
 "metadata": {
  "kernelspec": {
   "display_name": "Python 3",
   "language": "python",
   "name": "python3"
  },
  "language_info": {
   "codemirror_mode": {
    "name": "ipython",
    "version": 3
   },
   "file_extension": ".py",
   "mimetype": "text/x-python",
   "name": "python",
   "nbconvert_exporter": "python",
   "pygments_lexer": "ipython3",
   "version": "3.7.6"
  }
 },
 "nbformat": 4,
 "nbformat_minor": 4
}
