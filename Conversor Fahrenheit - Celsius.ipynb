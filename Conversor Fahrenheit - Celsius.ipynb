{
 "cells": [
  {
   "cell_type": "code",
   "execution_count": null,
   "metadata": {},
   "outputs": [],
   "source": [
    "# 1. Construa um algoritmo de conversão de uma temperatura em    \n",
    "# graus Celsius para uma temperatura em Fahrenheit com a     \n",
    "# a fórmula de conversão f = 9/5 * c + 32  (substitui 32 pelo valor em graus que pretendes)                        \n",
    "\n",
    "# Entrada de dados\n",
    "\n",
    "celsius = float(input(\"insere a temperatura em celsius: \")) # Lemos a temperatura em Celsius informada pelo usuário\n",
    "\n",
    "# Processamento de dados\n",
    "\n",
    "fahrenheit = 9/5 * celsius + 32 # Calculamos a temperatura em fahrenheit usando a fórmula da conversão de temperatura em Celsius para fahrenheit.\n",
    "\n",
    "# saída de dados\n",
    "\n",
    "print(f\"A temperatura em fahrenheit é: {fahrenheit}\") # Imprimimos a temperatura em fahrenheit\n",
    "print('END') # Informamos ao usuário que o programa terminou"
   ]
  },
  {
   "cell_type": "code",
   "execution_count": null,
   "metadata": {},
   "outputs": [],
   "source": []
  }
 ],
 "metadata": {
  "kernelspec": {
   "display_name": "Python 3",
   "language": "python",
   "name": "python3"
  },
  "language_info": {
   "codemirror_mode": {
    "name": "ipython",
    "version": 3
   },
   "file_extension": ".py",
   "mimetype": "text/x-python",
   "name": "python",
   "nbconvert_exporter": "python",
   "pygments_lexer": "ipython3",
   "version": "3.7.6"
  }
 },
 "nbformat": 4,
 "nbformat_minor": 4
}
