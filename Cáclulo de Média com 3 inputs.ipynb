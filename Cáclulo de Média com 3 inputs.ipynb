{
 "cells": [
  {
   "cell_type": "code",
   "execution_count": 2,
   "metadata": {},
   "outputs": [
    {
     "name": "stdout",
     "output_type": "stream",
     "text": [
      "informe a nota 1: 11\n",
      "informe a nota 2: 15\n",
      "informe a nota 3: 16\n",
      "42\n",
      "a média é  14.0\n",
      "END\n"
     ]
    }
   ],
   "source": [
    "# 3. Cria um programa que recebe input das tuas três notas (colégio,   \n",
    "# faculdade) e calcule a média final. calcula a média        \n",
    "\n",
    "# Entrada de dados\n",
    "\n",
    "nota1 = int(input(\"informe a nota 1: \")) # Recebe um valor inteiro para a nota1\n",
    "nota2 = int(input(\"informe a nota 2: \")) # Recebe um valor inteiro para a nota2\n",
    "nota3 = int(input(\"informe a nota 3: \")) # Recebe um valor inteiro para a nota3\n",
    "print(nota1 + nota2 + nota3) # Imprimindo o valor da soma de todas as notas\n",
    "\n",
    "# Processamento de dados\n",
    "\n",
    "media = (nota1 + nota2 + nota3) / 3 # Calcula a média\n",
    "\n",
    "# Saída de dados\n",
    "\n",
    "print(\"a média é \", media) # Imprime a média\n",
    "print(\"END\") # Informa ao usuário que o programa terminou"
   ]
  },
  {
   "cell_type": "code",
   "execution_count": null,
   "metadata": {},
   "outputs": [],
   "source": []
  }
 ],
 "metadata": {
  "kernelspec": {
   "display_name": "Python 3",
   "language": "python",
   "name": "python3"
  },
  "language_info": {
   "codemirror_mode": {
    "name": "ipython",
    "version": 3
   },
   "file_extension": ".py",
   "mimetype": "text/x-python",
   "name": "python",
   "nbconvert_exporter": "python",
   "pygments_lexer": "ipython3",
   "version": "3.7.6"
  }
 },
 "nbformat": 4,
 "nbformat_minor": 4
}
