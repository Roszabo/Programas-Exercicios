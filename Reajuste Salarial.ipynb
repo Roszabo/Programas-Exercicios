{
 "cells": [
  {
   "cell_type": "code",
   "execution_count": 1,
   "metadata": {},
   "outputs": [
    {
     "name": "stdout",
     "output_type": "stream",
     "text": [
      "indica o salário: 880\n",
      "O salário reajustado é de €1320.00\n",
      "END\n"
     ]
    }
   ],
   "source": [
    "# Elabora um algoritmo que calcula e imprime o salário    \n",
    "# reajusta o salário de um funcionário de acordo com a seguinte regra\n",
    "# Salários até € 900,00, reajuste de 50%;                   \n",
    "# Salários maiores que € 900,00, reajuste de 30%.           \n",
    "\n",
    "# Entrada de dados\n",
    "\n",
    "salario = float(input(\"indica o salário: \")) # Solicita o salário do usuário\n",
    "\n",
    "# Processamento e saída de dados\n",
    "\n",
    "if (salario <= 900): # Se o salario for menor ou igual a 900 executará a identação\n",
    "  salario = salario + (salario * 0.5) # Aplica o reajuste de 50%\n",
    "  print(f\"O salário reajustado é de €{salario:.2f}\") # Imprima o salário reajustado\n",
    "\n",
    "else: # Qualquer valor acima de 900\n",
    "  salario = salario + (salario * 0.3) # Aplica o reajuste de 30%\n",
    "  print(f\"O salário reajustado é de €{salario:.2f}\") # Imprime o salário reajustado\n",
    "\n",
    "print(\"END\") # Informa ao usuário que o programa terminou"
   ]
  },
  {
   "cell_type": "code",
   "execution_count": null,
   "metadata": {},
   "outputs": [],
   "source": []
  }
 ],
 "metadata": {
  "kernelspec": {
   "display_name": "Python 3",
   "language": "python",
   "name": "python3"
  },
  "language_info": {
   "codemirror_mode": {
    "name": "ipython",
    "version": 3
   },
   "file_extension": ".py",
   "mimetype": "text/x-python",
   "name": "python",
   "nbconvert_exporter": "python",
   "pygments_lexer": "ipython3",
   "version": "3.7.6"
  }
 },
 "nbformat": 4,
 "nbformat_minor": 4
}
