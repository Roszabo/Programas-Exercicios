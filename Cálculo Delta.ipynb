{
 "cells": [
  {
   "cell_type": "code",
   "execution_count": 1,
   "metadata": {},
   "outputs": [
    {
     "name": "stdout",
     "output_type": "stream",
     "text": [
      "Informe os valores de a, b e c\n",
      "Exemplo: aX^2 + bX + c = 0\n",
      "\n",
      "Indica o valor de a: 3\n",
      "Indica o valor de b: 5\n",
      "Indica o valor de c: 2\n",
      "\n",
      "delta = 1\n",
      "a raiz x1 é -4.833333333333333\n",
      "a raiz x2 é -5.166666666666667\n",
      "END\n"
     ]
    }
   ],
   "source": [
    "print(\"Informe os valores de a, b e c\") # Introduzindo o código\n",
    "print(\"Exemplo: aX^2 + bX + c = 0\\n\") # Dando Exemplos\n",
    "\n",
    "# Entrada de dados\n",
    "\n",
    "a = int(input(\"Indica o valor de a: \")) # Input de um valor inteiro para a\n",
    "b = int(input(\"Indica o valor de b: \")) # Input de um valor inteiro para b\n",
    "c = int(input(\"Indica o valor de c: \")) # Input de um valor inteiro para c\n",
    "\n",
    "# Processamento de dados\n",
    "\n",
    "delta = b**2 - 4*a*c  # Calculo do delta\n",
    "\n",
    "# Lógica de programação\n",
    "# 1 - Se delta for negativo, não existe raiz\n",
    "# 2 - Se delta for igual a zero, existe apenas uma raiz ou duas raízes iguais\n",
    "# 3 - Se delta for positivo, existem duas raízes\n",
    "\n",
    "# Saída de dados\n",
    "\n",
    "if delta < 0: # Se delta for negativo\n",
    "  print(f\"\\ndelta = {delta}\")\n",
    "  print(\"não existe raiz!\")\n",
    "\n",
    "elif delta == 0: # Se delta for igual a zero\n",
    "  print(f\"\\ndelta = {delta}\")\n",
    "  x1 = x2 = (-b + (delta**(1/2))/(2*a)) # Calculo da raiz, x1 = x2\n",
    "  print(f\"a raiz x1 é {x1}\")\n",
    "  print(f\"a raiz x2 é {x2}\")\n",
    "\n",
    "else: # Se delta for positivo\n",
    "  print(f\"\\ndelta = {delta}\")\n",
    "  x1 = (-b + (delta**(1/2))/(2*a)) # Calculo da raiz x1\n",
    "  x2 = (-b - (delta**(1/2))/(2*a)) # Calculo da raiz x2\n",
    "  print(f\"a raiz x1 é {x1}\")\n",
    "  print(f\"a raiz x2 é {x2}\")\n",
    "\n",
    "print(\"END\") # Informa ao usuário que o programa terminou"
   ]
  },
  {
   "cell_type": "code",
   "execution_count": null,
   "metadata": {},
   "outputs": [],
   "source": []
  }
 ],
 "metadata": {
  "kernelspec": {
   "display_name": "Python 3",
   "language": "python",
   "name": "python3"
  },
  "language_info": {
   "codemirror_mode": {
    "name": "ipython",
    "version": 3
   },
   "file_extension": ".py",
   "mimetype": "text/x-python",
   "name": "python",
   "nbconvert_exporter": "python",
   "pygments_lexer": "ipython3",
   "version": "3.7.6"
  }
 },
 "nbformat": 4,
 "nbformat_minor": 4
}
