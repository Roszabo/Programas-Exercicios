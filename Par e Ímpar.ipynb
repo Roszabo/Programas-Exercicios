{
 "cells": [
  {
   "cell_type": "code",
   "execution_count": 1,
   "metadata": {},
   "outputs": [
    {
     "name": "stdout",
     "output_type": "stream",
     "text": [
      "informa um valor: 5\n",
      "5 é impar\n",
      "END\n"
     ]
    }
   ],
   "source": [
    "# Constrói um Programa que verifica se é par ou ímpar e imprima a     \n",
    "# mensagem respectiva.                                       \n",
    "\n",
    "# Entrada de dados\n",
    "\n",
    "valor = int(input(\"informa um valor: \")) # Input de um valor inteiro do usuário\n",
    "\n",
    "# Processamento de dados\n",
    "\n",
    "if (valor % 2 == 0): # Se o valor for par, executará a identação\n",
    "  print(f\"{valor} é par\") # Imprime a mensagem informando que o valor é par\n",
    "\n",
    "else: # Se o valor for impar, executará a identação\n",
    "  print(f\"{valor} é impar\") # Imprime a mensagem informando que o valor é impar\n",
    "\n",
    "# Saída de dados\n",
    "\n",
    "print(\"END\") # Informa ao usuário que o programa terminou"
   ]
  },
  {
   "cell_type": "code",
   "execution_count": null,
   "metadata": {},
   "outputs": [],
   "source": []
  }
 ],
 "metadata": {
  "kernelspec": {
   "display_name": "Python 3",
   "language": "python",
   "name": "python3"
  },
  "language_info": {
   "codemirror_mode": {
    "name": "ipython",
    "version": 3
   },
   "file_extension": ".py",
   "mimetype": "text/x-python",
   "name": "python",
   "nbconvert_exporter": "python",
   "pygments_lexer": "ipython3",
   "version": "3.7.6"
  }
 },
 "nbformat": 4,
 "nbformat_minor": 4
}
