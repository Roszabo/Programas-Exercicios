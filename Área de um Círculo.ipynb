{
 "cells": [
  {
   "cell_type": "code",
   "execution_count": 2,
   "metadata": {},
   "outputs": [
    {
     "name": "stdout",
     "output_type": "stream",
     "text": [
      "indica o raio: 8\n",
      "A área do círculo é: 201.0624 cm2\n",
      "END\n"
     ]
    }
   ],
   "source": [
    "# Constrói um programa em linguagem Python que tem como    \n",
    "# objetivo calcular a área de um círculo. Para isso, o teu   \n",
    "# programa deve receber como entrada o raio deste círculo em \n",
    "# centímetros. Lembra-te que o cálculo da área de um círculo \n",
    "# é dado por A=πR^2, em que R é o raio do círculo e π é      \n",
    "# aproximadamente igual a 3.1416. O programa deve imprimir\n",
    "# o valor da área do círculo.                           \n",
    "\n",
    "# Entrada de dados\n",
    "\n",
    "raio = float(input(\"indica o raio: \")) # Input do raio do círculo\n",
    "\n",
    "# Processamento de dados\n",
    "\n",
    "area = 3.1416 * (raio ** 2) # Calcula a área do círculo\n",
    "\n",
    "# Saída de dados\n",
    "\n",
    "print(f\"A área do círculo é: {area} cm2\") # Imprime a área do círculo\n",
    "print(\"END\") # Informa ao usuário que o programa terminou"
   ]
  },
  {
   "cell_type": "code",
   "execution_count": null,
   "metadata": {},
   "outputs": [],
   "source": []
  }
 ],
 "metadata": {
  "kernelspec": {
   "display_name": "Python 3",
   "language": "python",
   "name": "python3"
  },
  "language_info": {
   "codemirror_mode": {
    "name": "ipython",
    "version": 3
   },
   "file_extension": ".py",
   "mimetype": "text/x-python",
   "name": "python",
   "nbconvert_exporter": "python",
   "pygments_lexer": "ipython3",
   "version": "3.7.6"
  }
 },
 "nbformat": 4,
 "nbformat_minor": 4
}
