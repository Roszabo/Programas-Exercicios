{
 "cells": [
  {
   "cell_type": "code",
   "execution_count": null,
   "metadata": {},
   "outputs": [],
   "source": [
    "#  Cria um programa que receba a altura e o peso do usuário\n",
    "# e diga seu IMC (Índice de Massa Corporal), dado pela       \n",
    "# fórmula: IMC = peso / (altura ** 2).                       \n",
    "\n",
    "# Entrada de dados\n",
    "\n",
    "peso = int(input(\"Digite o peso: \")) # Recebe o valor inteiro do peso\n",
    "altura = float(input(\"Digite a altura: \")) # Recebe o valor flutuante da altura (ex:1.70)\n",
    "\n",
    "# Processamento de dados\n",
    "\n",
    "imc = peso / (altura ** 2) # Calcula o IMC\n",
    "# imc = peso / (altura * altura) - Possível alternativa\n",
    "\n",
    "# Saída de dados\n",
    "\n",
    "print(f\"O IMC/BMI é: {imc}\") # Imprime o valor do IMC\n",
    "print(\"END\") # Informa ao usuário que o programa terminou"
   ]
  },
  {
   "cell_type": "code",
   "execution_count": null,
   "metadata": {},
   "outputs": [],
   "source": []
  }
 ],
 "metadata": {
  "kernelspec": {
   "display_name": "Python 3",
   "language": "python",
   "name": "python3"
  },
  "language_info": {
   "codemirror_mode": {
    "name": "ipython",
    "version": 3
   },
   "file_extension": ".py",
   "mimetype": "text/x-python",
   "name": "python",
   "nbconvert_exporter": "python",
   "pygments_lexer": "ipython3",
   "version": "3.7.6"
  }
 },
 "nbformat": 4,
 "nbformat_minor": 4
}
