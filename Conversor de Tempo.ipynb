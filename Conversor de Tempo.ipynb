{
 "cells": [
  {
   "cell_type": "code",
   "execution_count": 1,
   "metadata": {},
   "outputs": [
    {
     "name": "stdout",
     "output_type": "stream",
     "text": [
      "Indica a quantidade de horas: 7\n",
      "Indica a quantidade de minutos: 44\n",
      "Indica a quantidade de segundos: 0\n",
      "\n",
      "Total de segundos: 27840s\n",
      "END\n"
     ]
    }
   ],
   "source": [
    "# Constrói um programa em linguagem Python que após o   \n",
    "# usuário informar uma certa quantidade de horas, minutos e  \n",
    "# segundos, converta todo este tempo para segundos.        \n",
    "                                   \n",
    "\n",
    "# Entrada de dados\n",
    "\n",
    "horas = int(input(\"Indica a quantidade de horas: \")) # Input quantidade de horas\n",
    "minutos = int(input(\"Indica a quantidade de minutos: \")) # Input quantidade de minutos\n",
    "segundos = int(input(\"Indica a quantidade de segundos: \")) # Input quantidade de segundos\n",
    "\n",
    "# Processamento de dados\n",
    "\n",
    "total = (horas * 3600) + (minutos * 60) + segundos # Calcula o total de segundos\n",
    "\n",
    "# Saída de dados\n",
    "\n",
    "print(f\"\\nTotal de segundos: {total}s\") # Imprime o total de segundos\n",
    "print(\"END\") # Informa ao usuário que o programa terminou"
   ]
  },
  {
   "cell_type": "code",
   "execution_count": null,
   "metadata": {},
   "outputs": [],
   "source": []
  }
 ],
 "metadata": {
  "kernelspec": {
   "display_name": "Python 3",
   "language": "python",
   "name": "python3"
  },
  "language_info": {
   "codemirror_mode": {
    "name": "ipython",
    "version": 3
   },
   "file_extension": ".py",
   "mimetype": "text/x-python",
   "name": "python",
   "nbconvert_exporter": "python",
   "pygments_lexer": "ipython3",
   "version": "3.7.6"
  }
 },
 "nbformat": 4,
 "nbformat_minor": 4
}
