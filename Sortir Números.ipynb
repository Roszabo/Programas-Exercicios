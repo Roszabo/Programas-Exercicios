{
 "cells": [
  {
   "cell_type": "code",
   "execution_count": 1,
   "metadata": {},
   "outputs": [
    {
     "name": "stdout",
     "output_type": "stream",
     "text": [
      "Informe o valor de A, no intervalor de -100 a 0: -50\n",
      "Informe o valor de B, no intervalor de 0 a 100: 33\n",
      "Informe o tamanho da lista (C): 3\n",
      "O maior número da lista é: -20\n",
      "O menor número da lista é: -48\n",
      "A lista em ordem crescente é: [-48, -34, -20]\n",
      "A lista em ordem decrescente é: [-20, -34, -48]\n",
      "O maior número '-20' aparece 1,  vezes na lista\n",
      "O menor número '-48' aparece 1,  vezes na lista\n",
      "A lista é: [-48, -34, -20]\n",
      "END\n"
     ]
    }
   ],
   "source": [
    "# Solicite ao usuário três valores inteiros, sendo o primeiro (a) e segundo (b) o intervalo que será\n",
    "# usado para gerar valores aleatórios a partir da função randint(a,b), o terceiro (c) valor será o\n",
    "# tamanho da lista.\n",
    "# imprimir o maior, o menor, a lista em ordem crescente e decrescente, e conte a repetição do maior número.\n",
    "#\n",
    "\n",
    "# Importa a biblioteca random para gerar números aleatórios entre um intervalo definido pelo usuário\n",
    "from random import randint\n",
    "\n",
    "# Entrada de dados\n",
    "\n",
    "lista = [] # Cria uma lista vazia\n",
    "\n",
    "a = int(input(\"Informe o valor de A, no intervalor de -100 a 0: \")) # Entrada do valor de A no intervalo de -100 a 0\n",
    "b = int(input(\"Informe o valor de B, no intervalor de 0 a 100: \")) # Entrada do valor de B no intervalo de 0 a 100\n",
    "c = int(input(\"Informe o tamanho da lista (C): \")) # Entrada do tamanho da lista\n",
    "contador = 0 # Inicialização do contador com 0 para que o contador não seja nulo ao iniciar o loop\n",
    "\n",
    "# Processamento de dados\n",
    "\n",
    "# Gera números aleatórios entre o intervalo definido pelo usuário e adiciona na lista criada anteriormente\n",
    "\n",
    "if not(((a < -100) and (a > 0)) and ((b <  0) and (b > 100))): # Verifica se o intervalo definido pelo usuário é válido\n",
    "  \n",
    "  while contador < c: # Enquanto o contador for menor que o tamanho da lista\n",
    "    numeroSorteado = randint(a,b) # Gera um número aleatório entre o intervalo definido pelo usuário\n",
    "    lista.append(numeroSorteado) # Adiciona o número aleatório na lista criada anteriormente\n",
    "    contador = contador + 1 # Incrementa o contador para que o loop continue\n",
    "\n",
    "else:\n",
    "  print(\"O intervalo definido pelo usuário não é válido!\")\n",
    "\n",
    "# Saída de dados\n",
    "\n",
    "print(f\"O maior número da lista é: {max(lista)}\") # Imprima o maior número da lista\n",
    "print(f\"O menor número da lista é: {min(lista)}\") # Imprima o menor número da lista\n",
    "print(f\"A lista em ordem crescente é: {sorted(lista)}\") # Imprima a lista em ordem crescente\n",
    "print(f\"A lista em ordem decrescente é: {sorted(lista, reverse=True)}\") # Imprima a lista em ordem decrescente\n",
    "print(f\"O maior número '{max(lista)}' aparece {lista.count(max(lista))},  vezes na lista\") # Imprima o número de vezes que o maior número aparece na lista\n",
    "print(f\"O menor número '{min(lista)}' aparece {lista.count(min(lista))},  vezes na lista\") # Imprima o número de vezes que o menor número aparece na lista\n",
    "\n",
    "print(f\"A lista é: {lista}\") # Imprima a lista\n",
    "\n",
    "print(\"END\") # Informa ao usuário que o programa terminou"
   ]
  },
  {
   "cell_type": "code",
   "execution_count": null,
   "metadata": {},
   "outputs": [],
   "source": []
  }
 ],
 "metadata": {
  "kernelspec": {
   "display_name": "Python 3",
   "language": "python",
   "name": "python3"
  },
  "language_info": {
   "codemirror_mode": {
    "name": "ipython",
    "version": 3
   },
   "file_extension": ".py",
   "mimetype": "text/x-python",
   "name": "python",
   "nbconvert_exporter": "python",
   "pygments_lexer": "ipython3",
   "version": "3.7.6"
  }
 },
 "nbformat": 4,
 "nbformat_minor": 4
}
