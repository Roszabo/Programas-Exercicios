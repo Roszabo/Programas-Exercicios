{
 "cells": [
  {
   "cell_type": "code",
   "execution_count": 1,
   "metadata": {},
   "outputs": [
    {
     "name": "stdout",
     "output_type": "stream",
     "text": [
      "informe o valor 1: 5\n",
      "informe o valor 2: 4\n",
      "informe o valor 3: 8\n",
      "8 é o maior valor\n",
      "END\n"
     ]
    }
   ],
   "source": [
    "# Constrói um algoritmo que leia três valores e descubra qual \n",
    "# o maior valor.                                             \n",
    "\n",
    "# Entrada de dados\n",
    "\n",
    "valor1 = int(input(\"informe o valor 1: \")) # Input do primeiro valor\n",
    "valor2 = int(input(\"informe o valor 2: \")) # Input do segundo valor\n",
    "valor3 = int(input(\"informe o valor 3: \")) # Input do terceiro valor\n",
    "\n",
    "# Processamento e saída de dados\n",
    "\n",
    "if (valor1 > valor2 and valor1 > valor3): # Se valor1 for maior que valor2 e valor1 for maior que valor3\n",
    "  print(f\"{valor1} é o maior valor\") # Imprime a mensagem informando que valor1 é maior\n",
    "\n",
    "elif (valor2 > valor1 and valor2 > valor3): # Se valor2 for maior que valor1 e valor2 for maior que valor3\n",
    "  print(f\"{valor2} é o maior valor\") # Imprime a mensagem informando que valor2 é maior\n",
    "\n",
    "elif (valor3 > valor1 and valor3 > valor2): # Se valor3 for maior que valor1 e valor3 for maior que valor2\n",
    "  print(f\"{valor3} é o maior valor\") # Imprime a mensagem informando que valor3 é maior\n",
    "\n",
    "else: # Se nenhum dos valores for maior que o outro\n",
    "  print(\"Nenhum dos valores é maior, são iguais\") # Imprime a mensagem informando que os valores são iguais\n",
    "\n",
    "print(\"END\") # Informa ao usuário que o programa terminou"
   ]
  },
  {
   "cell_type": "code",
   "execution_count": null,
   "metadata": {},
   "outputs": [],
   "source": []
  }
 ],
 "metadata": {
  "kernelspec": {
   "display_name": "Python 3",
   "language": "python",
   "name": "python3"
  },
  "language_info": {
   "codemirror_mode": {
    "name": "ipython",
    "version": 3
   },
   "file_extension": ".py",
   "mimetype": "text/x-python",
   "name": "python",
   "nbconvert_exporter": "python",
   "pygments_lexer": "ipython3",
   "version": "3.7.6"
  }
 },
 "nbformat": 4,
 "nbformat_minor": 4
}
